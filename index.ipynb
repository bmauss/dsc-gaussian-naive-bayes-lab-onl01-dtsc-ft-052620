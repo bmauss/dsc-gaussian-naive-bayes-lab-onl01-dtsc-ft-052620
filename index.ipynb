{
 "cells": [
  {
   "cell_type": "markdown",
   "metadata": {},
   "source": [
    "# Gaussian Naive Bayes - Lab\n",
    "\n",
    "## Introduction\n",
    "\n",
    "Now that you've seen how to employ multinomial Bayes for classification, its time to practice implementing the process yourself. You'll also get a chance to investigate the impacts of using true probabilities under the probability density function as opposed to the point estimate on the curve itself.\n",
    "\n",
    "## Objectives\n",
    "\n",
    "You will be able to:\n",
    "\n",
    "* Independently code and implement the Gaussian Naive Bayes algorithm\n",
    "\n",
    "## Load the dataset\n",
    "\n",
    "To get started, load the dataset stored in the file `'heart.csv'`. The dataset contains various measurements regarding patients and a `'target'` feature indicating whether or not they have heart disease. You'll be building a GNB classifier to help determine whether future patients do or do not have heart disease. As reference, this dataset was taken from Kaggle. You can see the original data post here: https://www.kaggle.com/ronitf/heart-disease-uci."
   ]
  },
  {
   "cell_type": "code",
   "execution_count": 3,
   "metadata": {
    "ExecuteTime": {
     "end_time": "2020-08-10T16:32:09.445926Z",
     "start_time": "2020-08-10T16:32:09.422925Z"
    }
   },
   "outputs": [
    {
     "data": {
      "text/html": [
       "<div>\n",
       "<style scoped>\n",
       "    .dataframe tbody tr th:only-of-type {\n",
       "        vertical-align: middle;\n",
       "    }\n",
       "\n",
       "    .dataframe tbody tr th {\n",
       "        vertical-align: top;\n",
       "    }\n",
       "\n",
       "    .dataframe thead th {\n",
       "        text-align: right;\n",
       "    }\n",
       "</style>\n",
       "<table border=\"1\" class=\"dataframe\">\n",
       "  <thead>\n",
       "    <tr style=\"text-align: right;\">\n",
       "      <th></th>\n",
       "      <th>age</th>\n",
       "      <th>sex</th>\n",
       "      <th>cp</th>\n",
       "      <th>trestbps</th>\n",
       "      <th>chol</th>\n",
       "      <th>fbs</th>\n",
       "      <th>restecg</th>\n",
       "      <th>thalach</th>\n",
       "      <th>exang</th>\n",
       "      <th>oldpeak</th>\n",
       "      <th>slope</th>\n",
       "      <th>ca</th>\n",
       "      <th>thal</th>\n",
       "      <th>target</th>\n",
       "    </tr>\n",
       "  </thead>\n",
       "  <tbody>\n",
       "    <tr>\n",
       "      <td>0</td>\n",
       "      <td>63</td>\n",
       "      <td>1</td>\n",
       "      <td>3</td>\n",
       "      <td>145</td>\n",
       "      <td>233</td>\n",
       "      <td>1</td>\n",
       "      <td>0</td>\n",
       "      <td>150</td>\n",
       "      <td>0</td>\n",
       "      <td>2.3</td>\n",
       "      <td>0</td>\n",
       "      <td>0</td>\n",
       "      <td>1</td>\n",
       "      <td>1</td>\n",
       "    </tr>\n",
       "    <tr>\n",
       "      <td>1</td>\n",
       "      <td>37</td>\n",
       "      <td>1</td>\n",
       "      <td>2</td>\n",
       "      <td>130</td>\n",
       "      <td>250</td>\n",
       "      <td>0</td>\n",
       "      <td>1</td>\n",
       "      <td>187</td>\n",
       "      <td>0</td>\n",
       "      <td>3.5</td>\n",
       "      <td>0</td>\n",
       "      <td>0</td>\n",
       "      <td>2</td>\n",
       "      <td>1</td>\n",
       "    </tr>\n",
       "    <tr>\n",
       "      <td>2</td>\n",
       "      <td>41</td>\n",
       "      <td>0</td>\n",
       "      <td>1</td>\n",
       "      <td>130</td>\n",
       "      <td>204</td>\n",
       "      <td>0</td>\n",
       "      <td>0</td>\n",
       "      <td>172</td>\n",
       "      <td>0</td>\n",
       "      <td>1.4</td>\n",
       "      <td>2</td>\n",
       "      <td>0</td>\n",
       "      <td>2</td>\n",
       "      <td>1</td>\n",
       "    </tr>\n",
       "    <tr>\n",
       "      <td>3</td>\n",
       "      <td>56</td>\n",
       "      <td>1</td>\n",
       "      <td>1</td>\n",
       "      <td>120</td>\n",
       "      <td>236</td>\n",
       "      <td>0</td>\n",
       "      <td>1</td>\n",
       "      <td>178</td>\n",
       "      <td>0</td>\n",
       "      <td>0.8</td>\n",
       "      <td>2</td>\n",
       "      <td>0</td>\n",
       "      <td>2</td>\n",
       "      <td>1</td>\n",
       "    </tr>\n",
       "    <tr>\n",
       "      <td>4</td>\n",
       "      <td>57</td>\n",
       "      <td>0</td>\n",
       "      <td>0</td>\n",
       "      <td>120</td>\n",
       "      <td>354</td>\n",
       "      <td>0</td>\n",
       "      <td>1</td>\n",
       "      <td>163</td>\n",
       "      <td>1</td>\n",
       "      <td>0.6</td>\n",
       "      <td>2</td>\n",
       "      <td>0</td>\n",
       "      <td>2</td>\n",
       "      <td>1</td>\n",
       "    </tr>\n",
       "  </tbody>\n",
       "</table>\n",
       "</div>"
      ],
      "text/plain": [
       "   age  sex  cp  trestbps  chol  fbs  restecg  thalach  exang  oldpeak  slope  \\\n",
       "0   63    1   3       145   233    1        0      150      0      2.3      0   \n",
       "1   37    1   2       130   250    0        1      187      0      3.5      0   \n",
       "2   41    0   1       130   204    0        0      172      0      1.4      2   \n",
       "3   56    1   1       120   236    0        1      178      0      0.8      2   \n",
       "4   57    0   0       120   354    0        1      163      1      0.6      2   \n",
       "\n",
       "   ca  thal  target  \n",
       "0   0     1       1  \n",
       "1   0     2       1  \n",
       "2   0     2       1  \n",
       "3   0     2       1  \n",
       "4   0     2       1  "
      ]
     },
     "execution_count": 3,
     "metadata": {},
     "output_type": "execute_result"
    }
   ],
   "source": [
    "# Your code here \n",
    "# Load the dataset\n",
    "import pandas as pd\n",
    "from sklearn.model_selection import train_test_split\n",
    "import numpy as np\n",
    "\n",
    "df = pd.read_csv('heart.csv')\n",
    "df.head()"
   ]
  },
  {
   "cell_type": "markdown",
   "metadata": {},
   "source": [
    "## Define the problem\n",
    "\n",
    "As discussed, the dataset contains various patient measurements along with a `'target'` variable indicating whether or not the individual has heart disease. Define `X` and `y` below: "
   ]
  },
  {
   "cell_type": "code",
   "execution_count": 4,
   "metadata": {
    "ExecuteTime": {
     "end_time": "2020-08-10T16:34:14.502665Z",
     "start_time": "2020-08-10T16:34:14.488673Z"
    }
   },
   "outputs": [],
   "source": [
    "# Your code here\n",
    "y = df['target']\n",
    "X = df.drop('target', axis=1)"
   ]
  },
  {
   "cell_type": "markdown",
   "metadata": {},
   "source": [
    "## Perform a Train-test split\n",
    "\n",
    "While not demonstrated in the previous lesson, you've seen from your work with regression that an appropriate methodology to determine how well your algorithm will generalize to new data is to perform a train-test split. \n",
    "\n",
    "> Note: Set `random_state` to 22 and `test_size` to 0.25 to have your results match those of the solution branch provided."
   ]
  },
  {
   "cell_type": "code",
   "execution_count": 5,
   "metadata": {
    "ExecuteTime": {
     "end_time": "2020-08-10T16:35:41.846653Z",
     "start_time": "2020-08-10T16:35:41.841655Z"
    }
   },
   "outputs": [],
   "source": [
    "# Your code here\n",
    "# Perform a train-test split \n",
    "X_train, X_test, y_train, y_test = train_test_split(X, y, random_state=22, \n",
    "                                                    test_size=0.25)\n",
    "\n"
   ]
  },
  {
   "cell_type": "markdown",
   "metadata": {},
   "source": [
    "## Calculate the mean & standard deviation of each feature for each class in the training set\n",
    "\n",
    "Now, calculate the mean and standard deviation for each feature within each of the target class groups. This will serve as your a priori distribution estimate to determine the posterior likelihood of an observation belonging to one class versus the other."
   ]
  },
  {
   "cell_type": "code",
   "execution_count": 8,
   "metadata": {
    "ExecuteTime": {
     "end_time": "2020-08-10T16:41:48.440026Z",
     "start_time": "2020-08-10T16:41:48.378031Z"
    }
   },
   "outputs": [
    {
     "data": {
      "text/html": [
       "<div>\n",
       "<style scoped>\n",
       "    .dataframe tbody tr th:only-of-type {\n",
       "        vertical-align: middle;\n",
       "    }\n",
       "\n",
       "    .dataframe tbody tr th {\n",
       "        vertical-align: top;\n",
       "    }\n",
       "\n",
       "    .dataframe thead tr th {\n",
       "        text-align: left;\n",
       "    }\n",
       "\n",
       "    .dataframe thead tr:last-of-type th {\n",
       "        text-align: right;\n",
       "    }\n",
       "</style>\n",
       "<table border=\"1\" class=\"dataframe\">\n",
       "  <thead>\n",
       "    <tr>\n",
       "      <th></th>\n",
       "      <th colspan=\"2\" halign=\"left\">age</th>\n",
       "      <th colspan=\"2\" halign=\"left\">sex</th>\n",
       "      <th colspan=\"2\" halign=\"left\">cp</th>\n",
       "      <th colspan=\"2\" halign=\"left\">trestbps</th>\n",
       "      <th colspan=\"2\" halign=\"left\">chol</th>\n",
       "      <th>...</th>\n",
       "      <th colspan=\"2\" halign=\"left\">exang</th>\n",
       "      <th colspan=\"2\" halign=\"left\">oldpeak</th>\n",
       "      <th colspan=\"2\" halign=\"left\">slope</th>\n",
       "      <th colspan=\"2\" halign=\"left\">ca</th>\n",
       "      <th colspan=\"2\" halign=\"left\">thal</th>\n",
       "    </tr>\n",
       "    <tr>\n",
       "      <th></th>\n",
       "      <th>mean</th>\n",
       "      <th>std</th>\n",
       "      <th>mean</th>\n",
       "      <th>std</th>\n",
       "      <th>mean</th>\n",
       "      <th>std</th>\n",
       "      <th>mean</th>\n",
       "      <th>std</th>\n",
       "      <th>mean</th>\n",
       "      <th>std</th>\n",
       "      <th>...</th>\n",
       "      <th>mean</th>\n",
       "      <th>std</th>\n",
       "      <th>mean</th>\n",
       "      <th>std</th>\n",
       "      <th>mean</th>\n",
       "      <th>std</th>\n",
       "      <th>mean</th>\n",
       "      <th>std</th>\n",
       "      <th>mean</th>\n",
       "      <th>std</th>\n",
       "    </tr>\n",
       "    <tr>\n",
       "      <th>target</th>\n",
       "      <th></th>\n",
       "      <th></th>\n",
       "      <th></th>\n",
       "      <th></th>\n",
       "      <th></th>\n",
       "      <th></th>\n",
       "      <th></th>\n",
       "      <th></th>\n",
       "      <th></th>\n",
       "      <th></th>\n",
       "      <th></th>\n",
       "      <th></th>\n",
       "      <th></th>\n",
       "      <th></th>\n",
       "      <th></th>\n",
       "      <th></th>\n",
       "      <th></th>\n",
       "      <th></th>\n",
       "      <th></th>\n",
       "      <th></th>\n",
       "      <th></th>\n",
       "    </tr>\n",
       "  </thead>\n",
       "  <tbody>\n",
       "    <tr>\n",
       "      <td>0</td>\n",
       "      <td>57.281553</td>\n",
       "      <td>8.009085</td>\n",
       "      <td>0.796117</td>\n",
       "      <td>0.404853</td>\n",
       "      <td>0.466019</td>\n",
       "      <td>0.916253</td>\n",
       "      <td>134.067961</td>\n",
       "      <td>18.919469</td>\n",
       "      <td>251.543689</td>\n",
       "      <td>52.341596</td>\n",
       "      <td>...</td>\n",
       "      <td>0.543689</td>\n",
       "      <td>0.500523</td>\n",
       "      <td>1.600971</td>\n",
       "      <td>1.310253</td>\n",
       "      <td>1.184466</td>\n",
       "      <td>0.555676</td>\n",
       "      <td>1.213592</td>\n",
       "      <td>1.025656</td>\n",
       "      <td>2.582524</td>\n",
       "      <td>0.602678</td>\n",
       "    </tr>\n",
       "    <tr>\n",
       "      <td>1</td>\n",
       "      <td>52.322581</td>\n",
       "      <td>9.995567</td>\n",
       "      <td>0.564516</td>\n",
       "      <td>0.497832</td>\n",
       "      <td>1.427419</td>\n",
       "      <td>0.972578</td>\n",
       "      <td>129.137097</td>\n",
       "      <td>16.589415</td>\n",
       "      <td>240.516129</td>\n",
       "      <td>46.683240</td>\n",
       "      <td>...</td>\n",
       "      <td>0.161290</td>\n",
       "      <td>0.369291</td>\n",
       "      <td>0.592742</td>\n",
       "      <td>0.749544</td>\n",
       "      <td>1.580645</td>\n",
       "      <td>0.612827</td>\n",
       "      <td>0.354839</td>\n",
       "      <td>0.818422</td>\n",
       "      <td>2.072581</td>\n",
       "      <td>0.444906</td>\n",
       "    </tr>\n",
       "  </tbody>\n",
       "</table>\n",
       "<p>2 rows × 26 columns</p>\n",
       "</div>"
      ],
      "text/plain": [
       "              age                 sex                  cp            \\\n",
       "             mean       std      mean       std      mean       std   \n",
       "target                                                                \n",
       "0       57.281553  8.009085  0.796117  0.404853  0.466019  0.916253   \n",
       "1       52.322581  9.995567  0.564516  0.497832  1.427419  0.972578   \n",
       "\n",
       "          trestbps                   chol             ...     exang            \\\n",
       "              mean        std        mean        std  ...      mean       std   \n",
       "target                                                ...                       \n",
       "0       134.067961  18.919469  251.543689  52.341596  ...  0.543689  0.500523   \n",
       "1       129.137097  16.589415  240.516129  46.683240  ...  0.161290  0.369291   \n",
       "\n",
       "         oldpeak               slope                  ca                thal  \\\n",
       "            mean       std      mean       std      mean       std      mean   \n",
       "target                                                                         \n",
       "0       1.600971  1.310253  1.184466  0.555676  1.213592  1.025656  2.582524   \n",
       "1       0.592742  0.749544  1.580645  0.612827  0.354839  0.818422  2.072581   \n",
       "\n",
       "                  \n",
       "             std  \n",
       "target            \n",
       "0       0.602678  \n",
       "1       0.444906  \n",
       "\n",
       "[2 rows x 26 columns]"
      ]
     },
     "execution_count": 8,
     "metadata": {},
     "output_type": "execute_result"
    }
   ],
   "source": [
    "# Your code here \n",
    "# Calculate the mean and standard deviation for each feature within each class for the training set\n",
    "train = pd.concat([X_train, y_train], axis=1)\n",
    "aggs = train.groupby('target').agg(['mean', 'std'])\n",
    "aggs"
   ]
  },
  {
   "cell_type": "markdown",
   "metadata": {},
   "source": [
    "## Define a function to calculate the point estimate for the conditional probability of a feature value for a given class\n",
    "\n",
    "Recall that the point estimate is given by the probability density function of the normal distribution:  \n",
    "\n",
    " $$ \\large P(x_i|y) = \\frac{1}{\\sqrt{2 \\pi \\sigma_i^2}}e^{\\frac{-(x-\\mu_i)^2}{2\\sigma_i^2}}$$\n",
    "\n",
    "> Note: Feel free to use the built-in function from SciPy to do this as demonstrated in the lesson. Alternatively, take the time to code the above formula from scratch."
   ]
  },
  {
   "cell_type": "code",
   "execution_count": 9,
   "metadata": {
    "ExecuteTime": {
     "end_time": "2020-08-10T16:44:45.025953Z",
     "start_time": "2020-08-10T16:44:45.016957Z"
    }
   },
   "outputs": [
    {
     "data": {
      "text/plain": [
       "0.035036938123834606"
      ]
     },
     "execution_count": 9,
     "metadata": {},
     "output_type": "execute_result"
    }
   ],
   "source": [
    "# Your code here\n",
    "from scipy import stats\n",
    "\n",
    "def p_x_giv_class(obs_row, feature, class_):\n",
    "    mu = aggs[feature]['mean'][class_]\n",
    "    std = aggs[feature]['std'][class_]\n",
    "    \n",
    "    obs = obs_row[feature]\n",
    "    p_x_giv_y = stats.norm.pdf(obs, loc=mu, scale=std)\n",
    "    return p_x_giv_y\n",
    "p_x_giv_class(X_train.iloc[0], X.columns[0], 0)"
   ]
  },
  {
   "cell_type": "markdown",
   "metadata": {},
   "source": [
    "## Define a prediction function \n",
    "\n",
    "Define a prediction function that will return a predicted class value for a particular observation. To do this, calculate the point estimates for each of the features using your function above. Then, take the product of these point estimates for a given class and multiply it by the probability of that particular class. Take the class associated with the largest probability output from these calculations as your prediction."
   ]
  },
  {
   "cell_type": "code",
   "execution_count": 10,
   "metadata": {
    "ExecuteTime": {
     "end_time": "2020-08-10T16:48:49.065214Z",
     "start_time": "2020-08-10T16:48:49.061214Z"
    }
   },
   "outputs": [],
   "source": [
    "# Your code here\n",
    "def predict_class(obs_row):\n",
    "    c_probs = []\n",
    "    for c in range(2):\n",
    "        p = len(y_train[y_train == c])/len(y_train)\n",
    "        for feature in X.columns:\n",
    "            p *= p_x_giv_class(obs_row, feature, c)\n",
    "        c_probs.append(p)\n",
    "    return np.argmax(c_probs)"
   ]
  },
  {
   "cell_type": "markdown",
   "metadata": {},
   "source": [
    "## Apply your prediction function to the training and test sets"
   ]
  },
  {
   "cell_type": "code",
   "execution_count": 11,
   "metadata": {
    "ExecuteTime": {
     "end_time": "2020-08-10T16:49:16.592174Z",
     "start_time": "2020-08-10T16:49:16.553198Z"
    }
   },
   "outputs": [
    {
     "data": {
      "text/plain": [
       "0"
      ]
     },
     "execution_count": 11,
     "metadata": {},
     "output_type": "execute_result"
    }
   ],
   "source": [
    "# Your code here\n",
    "predict_class(X_train.iloc[0])"
   ]
  },
  {
   "cell_type": "code",
   "execution_count": 13,
   "metadata": {
    "ExecuteTime": {
     "end_time": "2020-08-10T16:52:44.964072Z",
     "start_time": "2020-08-10T16:52:37.880215Z"
    }
   },
   "outputs": [],
   "source": [
    "y_hat_train = [predict_class(X_train.iloc[i]) for i in range(len(X_train))]\n",
    "y_hat_test = [predict_class(X_test.iloc[i]) for i in range(len(X_test))]"
   ]
  },
  {
   "cell_type": "markdown",
   "metadata": {},
   "source": [
    "## Calculate the training and test accuracy"
   ]
  },
  {
   "cell_type": "code",
   "execution_count": 15,
   "metadata": {
    "ExecuteTime": {
     "end_time": "2020-08-10T16:56:27.503803Z",
     "start_time": "2020-08-10T16:56:27.497818Z"
    }
   },
   "outputs": [
    {
     "name": "stdout",
     "output_type": "stream",
     "text": [
      "Training Accuracy: 0.8502202643171806\tTesting Accuracy: 0.8289473684210527\n"
     ]
    }
   ],
   "source": [
    "# Your code here\n",
    "resid_train = y_hat_train == y_train\n",
    "acc_train = resid_train.sum()/len(resid_train)\n",
    "\n",
    "resid_test = y_hat_test == y_test\n",
    "acc_test = resid_test.sum()/len(resid_test)\n",
    "print(f'Training Accuracy: {acc_train}\\tTesting Accuracy: {acc_test}')"
   ]
  },
  {
   "cell_type": "markdown",
   "metadata": {},
   "source": [
    "## Level up (Optional)\n",
    "\n",
    "### Adapting point estimates for the conditional probability into true probability estimates\n",
    "\n",
    "As discussed, the point estimate from the probability density function is not a true probability measurement. Recall that the area under a probability density function is 1, representing the total probability of all possible outcomes. Accordingly, to determine the probability of a feature measurement occurring, you would need to find the area under some portion of the PDF. Determining appropriate bounds for this area however, is a bit tricky and arbitrary. For example, when generating a class prediction, you would want to know the probability of a patient having a resting blood pressure of 145 given that they had heart disease versus the probability of having a resting blood pressure of 145 given that the did not have heart disease. Previously, you've simply used the point where x=145 on the PDF curve to do this. However, the probability of any single point is actually 0. To calculate the actual probability, you would have to create a range around the observed value such as \"what is the probability of having a resting blood pressure between 144 and 146 inclusive?\" Alternatively, you could narrow the range and rewrite the problem as \"what is the probability of having a resting blood pressure between 144.5 and 145.5?\" Since defining these bounds is arbitrary, a potentially interesting research question is how various band methods might impact output predictions and the overall accuracy of the algorithm.\n",
    "\n",
    "\n",
    "## Rewriting the conditional probability formula\n",
    "\n",
    "Rewrite your conditional probability formula above to take a feature observation, a given class, and a range width and calculate the actual probability beneath the PDF curve of an observation falling within the range of the given width centered at the given observation value. For example, taking the previous example of resting blood pressure, you might calculate the probability of having a resting blood pressure within 1bp of 145 given that a patient has heart disease. In this case, the range width would be 2bp (144bp to 146bp) and the corresponding area under the PDF curve for the normal distribution would look like this:  \n",
    "\n",
    "<img src=\"images/pdf_integral.png\">\n",
    "\n",
    "With that, write such a function below: "
   ]
  },
  {
   "cell_type": "code",
   "execution_count": 19,
   "metadata": {
    "ExecuteTime": {
     "end_time": "2020-08-10T16:59:14.390043Z",
     "start_time": "2020-08-10T16:59:14.384034Z"
    }
   },
   "outputs": [],
   "source": [
    "def p_band_x_given_class(obs_row, feature, c, range_width_std):\n",
    "    \"\"\"obs_row is the observation in question \n",
    "    feature is the feature of the observation row for which you are calculating a conditional probability\n",
    "    c is the class flag for the conditional probability\n",
    "    range_width_std is the range in standard deviations of the feature variable to calculate the integral under the PDF curve for\"\"\"\n",
    "    \n",
    "    mu = aggs[feature]['mean'][c]\n",
    "    std = aggs[feature]['std'][c]\n",
    "    \n",
    "    # observation\n",
    "    obs = obs_row[feature] \n",
    "    interval_min = obs - range_width_std*std/2\n",
    "    interval_max = obs + range_width_std*std/2\n",
    "    \n",
    "    cdf_min = stats.norm.cdf(interval_min, loc=mu, scale=std)\n",
    "    cdf_max = stats.norm.cdf(interval_max, loc=mu, scale=std)\n",
    "    p_x_given_y = cdf_max - cdf_min\n",
    "    return p_x_given_y"
   ]
  },
  {
   "cell_type": "markdown",
   "metadata": {},
   "source": [
    "## Update the prediction function\n",
    "\n",
    "Now, update the `predict_class()` function to use this new conditional probability function. Be sure that you can pass in the range width variable to this wrapper function."
   ]
  },
  {
   "cell_type": "code",
   "execution_count": 20,
   "metadata": {
    "ExecuteTime": {
     "end_time": "2020-08-10T16:59:37.413787Z",
     "start_time": "2020-08-10T16:59:37.407790Z"
    }
   },
   "outputs": [],
   "source": [
    "# Your code here\n",
    "# Update the prediction function\n",
    "def predict_class(obs_row, how='bands', range_width_std=.25):\n",
    "    c_probs = []\n",
    "    for c in range(2):\n",
    "        # Initialize probability to relative probability of class\n",
    "        p = len(y_train[y_train == c])/len(y_train) \n",
    "        for feature in X.columns:\n",
    "            if how == 'bands':\n",
    "                p *= p_band_x_given_class(obs_row, feature, c, range_width_std=range_width_std)\n",
    "            else:\n",
    "                p *= p_x_given_class(obs_row, feature, c)\n",
    "        c_probs.append(p)\n",
    "    return np.argmax(c_probs)\n"
   ]
  },
  {
   "cell_type": "markdown",
   "metadata": {},
   "source": [
    "## Experiment with the impact of various range-widths\n",
    "\n",
    "Finally, write a `for` loop to measure the impact of varying range-widths on the classifier's test and train accuracy. Iterate over various range-widths from 0.1 standard deviations to 2 standard deviations. For each of these, store the associated test and train accuracies. Finally, plot these on a graph. The x-axis should be the associated range-width (expressed in standard deviations; each feature will have a unique width applicable to the specific scale). The y-axis will be the associated accuracy. Be sure to include a legend for train accuracy versus test accuracy.\n",
    "\n",
    "_Note:_ ⏰ _Expect your code to take over two minutes to run._"
   ]
  },
  {
   "cell_type": "code",
   "execution_count": 21,
   "metadata": {
    "ExecuteTime": {
     "end_time": "2020-08-10T17:02:15.433081Z",
     "start_time": "2020-08-10T16:59:39.504674Z"
    }
   },
   "outputs": [
    {
     "data": {
      "image/png": "[encoded data removed]",
      "text/plain": [
       "<Figure size 432x288 with 1 Axes>"
      ]
     },
     "metadata": {
      "needs_background": "light"
     },
     "output_type": "display_data"
    }
   ],
   "source": [
    "# Your code here\n",
    "import matplotlib.pyplot as plt\n",
    "%matplotlib inline\n",
    "train_accs = []\n",
    "test_accs = []\n",
    "range_stds = np.linspace(0.1, 2, num=21)\n",
    "for range_std in range_stds:    \n",
    "    y_hat_train = [predict_class(X_train.iloc[idx], range_width_std=range_std) for idx in range(len(X_train))]\n",
    "    y_hat_test = [predict_class(X_test.iloc[idx], range_width_std=range_std) for idx in range(len(X_test))]\n",
    "    \n",
    "    residuals_train = y_hat_train == y_train\n",
    "    acc_train = residuals_train.sum()/len(residuals_train)\n",
    "\n",
    "    residuals_test = y_hat_test == y_test\n",
    "    acc_test = residuals_test.sum()/len(residuals_test)\n",
    "    \n",
    "    train_accs.append(acc_train)\n",
    "    test_accs.append(acc_test)\n",
    "plt.plot(range_stds, train_accs, label='Train Accuracy')\n",
    "plt.plot(range_stds, test_accs, label='Test Accuracy')\n",
    "plt.title('Train and Test Accruaccy Versus Various Standard Deviation Bin Ranges for GNB')\n",
    "plt.ylabel('Classifier Accuracy')\n",
    "plt.xlabel('Standard Deviations Used for Integral Band Width')\n",
    "plt.legend(loc=(1.01,.85));"
   ]
  },
  {
   "cell_type": "markdown",
   "metadata": {},
   "source": [
    "> Comment: Not a wild difference from our point estimates obtained by using points from the PDF itself, but there is some impact. **Interestingly, these graphs will differ substantially in shape depending on the initial train-test split used.** The recommendation would be to use the point estimates from the PDF itself, or a modest band-width size."
   ]
  },
  {
   "cell_type": "markdown",
   "metadata": {},
   "source": [
    "## Appendix: Plotting PDFs and probability integrals\n",
    "\n",
    "Below, feel free to take a look at the code used to generate the PDF graph image above."
   ]
  },
  {
   "cell_type": "code",
   "execution_count": 22,
   "metadata": {
    "ExecuteTime": {
     "end_time": "2020-08-10T17:02:39.768073Z",
     "start_time": "2020-08-10T17:02:39.760079Z"
    }
   },
   "outputs": [
    {
     "data": {
      "text/plain": [
       "mean    129.303030\n",
       "std      16.169613\n",
       "Name: trestbps, dtype: float64"
      ]
     },
     "execution_count": 22,
     "metadata": {},
     "output_type": "execute_result"
    }
   ],
   "source": [
    "temp = df[df['target'] == 1]['trestbps']\n",
    "aggs = temp.agg(['mean', 'std'])\n",
    "aggs"
   ]
  },
  {
   "cell_type": "code",
   "execution_count": 23,
   "metadata": {
    "ExecuteTime": {
     "end_time": "2020-08-10T17:02:42.228474Z",
     "start_time": "2020-08-10T17:02:41.402190Z"
    }
   },
   "outputs": [],
   "source": [
    "import numpy as np\n",
    "import matplotlib.pyplot as plt\n",
    "from matplotlib.patches import Polygon\n",
    "import seaborn as sns\n",
    "import scipy.stats as stats\n",
    "sns.set_style('white')"
   ]
  },
  {
   "cell_type": "code",
   "execution_count": 24,
   "metadata": {
    "ExecuteTime": {
     "end_time": "2020-08-10T17:02:46.286526Z",
     "start_time": "2020-08-10T17:02:46.151603Z"
    },
    "scrolled": true
   },
   "outputs": [
    {
     "name": "stdout",
     "output_type": "stream",
     "text": [
      "Probability of Blood Pressure Falling withing Range for the Given Class: 0.03080251623846919\n"
     ]
    },
    {
     "data": {
      "text/plain": [
       "Text(0.5,0,'Resting Blood Pressure')"
      ]
     },
     "execution_count": 24,
     "metadata": {},
     "output_type": "execute_result"
    },
    {
     "data": {
      "image/png": "[encoded data removed]",
      "text/plain": [
       "<Figure size 432x288 with 1 Axes>"
      ]
     },
     "metadata": {},
     "output_type": "display_data"
    }
   ],
   "source": [
    "x = np.linspace(temp.min(), temp.max(), num=10**3)\n",
    "pdf = stats.norm.pdf(x, loc=aggs['mean'], scale=aggs['std'])\n",
    "xi = 145\n",
    "width = 2\n",
    "xi_lower = xi - width/2\n",
    "xi_upper = xi + width/2\n",
    "\n",
    "fig, ax = plt.subplots()\n",
    "\n",
    "plt.plot(x, pdf)\n",
    "\n",
    "# Make the shaded region\n",
    "ix = np.linspace(xi_lower, xi_upper)\n",
    "iy = stats.norm.pdf(ix, loc=aggs['mean'], scale=aggs['std'])\n",
    "verts = [(xi_lower, 0), *zip(ix, iy), (xi_upper, 0)]\n",
    "poly = Polygon(verts, facecolor='0.9', edgecolor='0.5')\n",
    "ax.add_patch(poly);\n",
    "\n",
    "plt.plot((145, 145), (0, stats.norm.pdf(145, loc=aggs['mean'], scale=aggs['std'])), linestyle='dotted')\n",
    "p_area = stats.norm.cdf(xi_upper, loc=aggs['mean'], scale=aggs['std']) - stats.norm.cdf(xi_lower, loc=aggs['mean'], scale=aggs['std'])\n",
    "print('Probability of Blood Pressure Falling withing Range for the Given Class: {}'.format(p_area))\n",
    "plt.title('Conditional Probability of Resting Blood Pressure ~145 for Those With Heart Disease')\n",
    "plt.ylabel('Probability Density')\n",
    "plt.xlabel('Resting Blood Pressure')"
   ]
  },
  {
   "cell_type": "markdown",
   "metadata": {},
   "source": [
    "> Comment: See https://matplotlib.org/gallery/showcase/integral.html for further details on plotting shaded integral areas under curves."
   ]
  },
  {
   "cell_type": "markdown",
   "metadata": {},
   "source": [
    "## Summary\n",
    "\n",
    "Well done! In this lab, you implemented the Gaussian Naive Bayes classifier from scratch, and used it to generate classification predictions and validated the accuracy of the model."
   ]
  }
 ],
 "metadata": {
  "kernelspec": {
   "display_name": "Python 3",
   "language": "python",
   "name": "python3"
  },
  "language_info": {
   "codemirror_mode": {
    "name": "ipython",
    "version": 3
   },
   "file_extension": ".py",
   "mimetype": "text/x-python",
   "name": "python",
   "nbconvert_exporter": "python",
   "pygments_lexer": "ipython3",
   "version": "3.6.9"
  },
  "toc": {
   "base_numbering": 1,
   "nav_menu": {},
   "number_sections": true,
   "sideBar": true,
   "skip_h1_title": false,
   "title_cell": "Table of Contents",
   "title_sidebar": "Contents",
   "toc_cell": false,
   "toc_position": {},
   "toc_section_display": true,
   "toc_window_display": false
  },
  "varInspector": {
   "cols": {
    "lenName": 16,
    "lenType": 16,
    "lenVar": 40
   },
   "kernels_config": {
    "python": {
     "delete_cmd_postfix": "",
     "delete_cmd_prefix": "del ",
     "library": "var_list.py",
     "varRefreshCmd": "print(var_dic_list())"
    },
    "r": {
     "delete_cmd_postfix": ") ",
     "delete_cmd_prefix": "rm(",
     "library": "var_list.r",
     "varRefreshCmd": "cat(var_dic_list()) "
    }
   },
   "types_to_exclude": [
    "module",
    "function",
    "builtin_function_or_method",
    "instance",
    "_Feature"
   ],
   "window_display": false
  }
 },
 "nbformat": 4,
 "nbformat_minor": 2
}
